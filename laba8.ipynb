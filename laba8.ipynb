{
 "cells": [
  {
   "cell_type": "markdown",
   "id": "d3c5e5da-89c3-493b-8ab9-9f1583859e59",
   "metadata": {},
   "source": [
    "# Лабораторная работа №8"
   ]
  },
  {
   "cell_type": "markdown",
   "id": "6b7db6e5-0670-45ca-baaa-83ee568cf633",
   "metadata": {},
   "source": [
    "# Обход бинарного дерева поиска. Поиск максимального и минимального значений\n"
   ]
  },
  {
   "cell_type": "code",
   "execution_count": 5,
   "id": "d88aef61-99d0-44af-8c7e-160c32603340",
   "metadata": {},
   "outputs": [
    {
     "name": "stdout",
     "output_type": "stream",
     "text": [
      "(None, 5, None)\n",
      "*\n"
     ]
    }
   ],
   "source": [
    "# вновь переопределим классы бинарного древа поиска\n",
    "class BinaryTree:\n",
    "    def __init__(self):\n",
    "        self.root = EmptyNode()\n",
    "    def __repr__(self):\n",
    "        return repr(self.root)\n",
    "    def insert(self, value):\n",
    "        self.root = self.root.insert(value)\n",
    "    def __contains__(self, value):\n",
    "        return value in self.root\n",
    "    def __len__(self):\n",
    "        return len(self.root) - 1\n",
    "    def lcr(self):\n",
    "        return self.root.lcr()\n",
    "\n",
    "class EmptyNode:\n",
    "    def __repr__(self):\n",
    "        return '*'\n",
    "    def insert(self, value):\n",
    "        return BinaryNode(self, value, self)\n",
    "    def __contains__(self, value):\n",
    "        return False\n",
    "    def __len__(self):\n",
    "        return 1\n",
    "    def lcr(self):\n",
    "        return []\n",
    "EmptyNode()\n",
    "\n",
    "class BinaryNode:\n",
    "    def __init__(self, left, value, right):\n",
    "        self.left = left\n",
    "        self.value = value\n",
    "        self.right = right\n",
    "    def __repr__(self):\n",
    "        return f'({self.left}, {self.value}, {self.right})'\n",
    "    def insert(self, value):\n",
    "        if value < self.value:\n",
    "            if isinstance(self.left, EmptyNode):\n",
    "                self.left = BinaryNode(EmptyNode(), value, EmptyNode())\n",
    "            else:\n",
    "                self.left.insert(value)\n",
    "                \n",
    "        elif value > self.value:\n",
    "            if isinstance(self.right, EmptyNode):\n",
    "                self.right = BinaryNode(EmptyNode(), value, EmptyNode())\n",
    "            else:\n",
    "                self.right.insert(value)\n",
    "        return self\n",
    "    def __contains__(self, value):\n",
    "        if self == value:\n",
    "            return True\n",
    "        elif value < self.value:\n",
    "            return self.left.__contains__(value)\n",
    "        else:  # value > self.value\n",
    "            return self.right.__contains__(value)\n",
    "    def __len__(self):\n",
    "        return len(self.left) + len(self.right)\n",
    "    def lcr(self):\n",
    "        return self.left.lcr() + [self.value] + self.right.lcr()\n",
    "\n",
    "node = BinaryNode(None, 5, None)\n",
    "print(node)\n",
    "\n",
    "empty_node = EmptyNode()\n",
    "print(empty_node)"
   ]
  },
  {
   "cell_type": "code",
   "execution_count": 6,
   "id": "b90a4da2-87ca-4818-b045-36ebde156209",
   "metadata": {},
   "outputs": [
    {
     "name": "stdout",
     "output_type": "stream",
     "text": [
      "(*, 0.0, ((*, 0.27, (*, 0.4, *)), 0.91, (((*, 1.04, (*, 1.42, *)), 1.46, ((*, 1.47, *), 1.52, *)), 2.18, (((*, 2.23, *), 2.56, (*, 2.62, *)), 2.81, ((*, 3.0, (*, 3.73, *)), 4.6, ((*, 5.16, *), 5.54, (*, 6.42, ((((*, 6.79, *), 7.56, (*, 7.84, (*, 8.33, (*, 8.52, *)))), 8.7, (*, 8.71, *)), 8.87, ((((((*, 8.93, *), 9.04, *), 9.92, ((*, 10.3, *), 10.32, *)), 10.8, (*, 10.84, *)), 11.71, *), 12.73, (*, 12.83, ((((*, 13.76, *), 15.1, (*, 15.62, *)), 16.19, *), 17.81, (((*, 18.08, *), 18.33, ((((*, 19.17, *), 19.26, *), 19.93, *), 21.9, (*, 22.34, *))), 22.58, (*, 24.06, (((*, 24.3, *), 25.68, (*, 26.36, *)), 27.52, ((*, 27.66, *), 27.69, ((((*, 29.85, *), 29.88, *), 31.01, (((*, 31.41, *), 33.73, *), 35.09, ((*, 35.78, (*, 35.79, *)), 36.45, *))), 36.9, ((*, 37.62, *), 37.75, (((*, 39.7, *), 40.63, (*, 40.99, *)), 41.14, ((*, 42.4, *), 42.51, (((((*, 43.57, *), 45.36, (*, 45.49, *)), 45.53, (*, 46.65, *)), 47.9, (*, 51.2, *)), 53.24, ((*, 53.67, *), 54.19, (((*, 56.17, *), 56.45, *), 58.64, (((*, 58.78, *), 64.1, *), 65.14, (((*, 68.84, (*, 69.69, *)), 73.37, (*, 74.5, *)), 75.89, (*, 76.12, (*, 80.47, *))))))))))))))))))))))))))\n"
     ]
    }
   ],
   "source": [
    "import random\n",
    "sourse_data2 = []\n",
    "tree2 = BinaryTree()\n",
    "for i in range(100):\n",
    "    k = round((i * random.random()),2)\n",
    "    sourse_data2.append(k)\n",
    "    tree2.insert(k)\n",
    "print(tree2)"
   ]
  },
  {
   "cell_type": "code",
   "execution_count": 7,
   "id": "de950d0b-438f-4ef0-9456-9c9e68cad5a8",
   "metadata": {},
   "outputs": [
    {
     "name": "stdout",
     "output_type": "stream",
     "text": [
      "[0.0, 0.27, 0.4, 0.91, 1.04, 1.42, 1.46, 1.47, 1.52, 2.18, 2.23, 2.56, 2.62, 2.81, 3.0, 3.73, 4.6, 5.16, 5.54, 6.42, 6.79, 7.56, 7.84, 8.33, 8.52, 8.7, 8.71, 8.87, 8.93, 9.04, 9.92, 10.3, 10.32, 10.8, 10.84, 11.71, 12.73, 12.83, 13.76, 15.1, 15.62, 16.19, 17.81, 18.08, 18.33, 19.17, 19.26, 19.93, 21.9, 22.34, 22.58, 24.06, 24.3, 25.68, 26.36, 27.52, 27.66, 27.69, 29.85, 29.88, 31.01, 31.41, 33.73, 35.09, 35.78, 35.79, 36.45, 36.9, 37.62, 37.75, 39.7, 40.63, 40.99, 41.14, 42.4, 42.51, 43.57, 45.36, 45.49, 45.53, 46.65, 47.9, 51.2, 53.24, 53.67, 54.19, 56.17, 56.45, 58.64, 58.78, 64.1, 65.14, 68.84, 69.69, 73.37, 74.5, 75.89, 76.12, 80.47]\n"
     ]
    }
   ],
   "source": [
    "lcr_data = tree2.lcr()\n",
    "print(lcr_data)"
   ]
  },
  {
   "cell_type": "code",
   "execution_count": 4,
   "id": "754926fc-9134-40c2-96bc-b549040fa352",
   "metadata": {},
   "outputs": [],
   "source": [
    "import random as rnd\n",
    "sourse_data = [rnd.uniform(0,100) for i in range(10**3)]\n",
    "tree = BinaryTree()\n",
    "for i in sourse_data:\n",
    "    tree.insert(i)\n",
    "sorted_data = tree.lcr()"
   ]
  },
  {
   "cell_type": "code",
   "execution_count": 6,
   "id": "5872f49d-8ecf-45d7-9827-888c16b0f50a",
   "metadata": {},
   "outputs": [
    {
     "data": {
      "image/png": "[encoded data removed]",
      "text/plain": [
       "<Figure size 640x480 with 1 Axes>"
      ]
     },
     "metadata": {},
     "output_type": "display_data"
    }
   ],
   "source": [
    "import matplotlib.pyplot as plt\n",
    "\n",
    "\n",
    "\n",
    "plt.plot(sourse_data, 'r', linestyle = '', marker = 'o',markersize = 3, label = 'Initial data')\n",
    "plt.plot(sorted_data, color = 'blue', label = 'Sorted data')\n",
    "plt.title('Sequences of numbers')\n",
    "plt.legend()\n",
    "plt.grid(True)\n",
    "plt.show()"
   ]
  },
  {
   "cell_type": "markdown",
   "id": "bb90b9df-cbdb-4064-9f18-43d528b13358",
   "metadata": {},
   "source": [
    "## Задание 8.2. Нахождение минимального и максимального значения"
   ]
  },
  {
   "cell_type": "code",
   "execution_count": 2,
   "id": "f1802ece-0a72-48f7-85e5-7e50fb51ef25",
   "metadata": {},
   "outputs": [
    {
     "name": "stdout",
     "output_type": "stream",
     "text": [
      "(None, 5, None)\n",
      "*\n"
     ]
    }
   ],
   "source": [
    "# вновь переопределим классы бинарного древа поиска второй раз\n",
    "class BinaryTree:\n",
    "    def __init__(self):\n",
    "        self.root = EmptyNode()\n",
    "    def __repr__(self):\n",
    "        return repr(self.root)\n",
    "    def insert(self, value):\n",
    "        self.root = self.root.insert(value)\n",
    "    def __contains__(self, value):\n",
    "        return value in self.root\n",
    "    def __len__(self):\n",
    "        return len(self.root) - 1\n",
    "    def lcr(self):\n",
    "        return self.root.lcr()\n",
    "    def min(self):\n",
    "        return self.root.min()\n",
    "    def max(self):\n",
    "        return self.root.max()\n",
    "\n",
    "class EmptyNode:\n",
    "    def __repr__(self):\n",
    "        return '*'\n",
    "    def insert(self, value):\n",
    "        return BinaryNode(self, value, self)\n",
    "    def __contains__(self, value):\n",
    "        return False\n",
    "    def __len__(self):\n",
    "        return 1\n",
    "    def lcr(self):\n",
    "        return []\n",
    "    def min(self):\n",
    "        return 'Дерево пустое'\n",
    "    def max(self):\n",
    "        return 'Дерево пустое'\n",
    "EmptyNode()\n",
    "\n",
    "class BinaryNode:\n",
    "    def __init__(self, left, value, right):\n",
    "        self.left = left\n",
    "        self.value = value\n",
    "        self.right = right\n",
    "    def __repr__(self):\n",
    "        return f'({self.left}, {self.value}, {self.right})'\n",
    "    def insert(self, value):\n",
    "        if value < self.value:\n",
    "            if isinstance(self.left, EmptyNode):\n",
    "                self.left = BinaryNode(EmptyNode(), value, EmptyNode())\n",
    "            else:\n",
    "                self.left.insert(value)\n",
    "                \n",
    "        elif value > self.value:\n",
    "            if isinstance(self.right, EmptyNode):\n",
    "                self.right = BinaryNode(EmptyNode(), value, EmptyNode())\n",
    "            else:\n",
    "                self.right.insert(value)\n",
    "        return self\n",
    "    def __contains__(self, value):\n",
    "        if self == value:\n",
    "            return True\n",
    "        elif value < self.value:\n",
    "            return self.left.__contains__(value)\n",
    "        else:\n",
    "            return self.right.__contains__(value)\n",
    "    def __len__(self):\n",
    "        return len(self.left) + len(self.right)\n",
    "    def lcr(self):\n",
    "        return self.left.lcr() + [self.value] + self.right.lcr()\n",
    "    def min(self):\n",
    "        if isinstance(self.left, EmptyNode):\n",
    "            return self.value\n",
    "        return self.left.min()\n",
    "    def max(self):\n",
    "        if isinstance(self.right, EmptyNode):\n",
    "            return self.value\n",
    "        return self.right.max()\n",
    "\n",
    "node = BinaryNode(None, 5, None)\n",
    "print(node)\n",
    "\n",
    "empty_node = EmptyNode()\n",
    "print(empty_node)"
   ]
  },
  {
   "cell_type": "code",
   "execution_count": 8,
   "id": "d43e5eab-b18c-4423-aad9-309d5e0eb8c1",
   "metadata": {},
   "outputs": [
    {
     "data": {
      "text/plain": [
       "0.019699763804326142"
      ]
     },
     "execution_count": 8,
     "metadata": {},
     "output_type": "execute_result"
    }
   ],
   "source": [
    "tree.min()"
   ]
  },
  {
   "cell_type": "code",
   "execution_count": 10,
   "id": "e57a1c79-cfa4-4042-81ef-c4267878e470",
   "metadata": {},
   "outputs": [
    {
     "data": {
      "text/plain": [
       "99.50947755821831"
      ]
     },
     "execution_count": 10,
     "metadata": {},
     "output_type": "execute_result"
    }
   ],
   "source": [
    "tree.max()"
   ]
  },
  {
   "cell_type": "markdown",
   "id": "37c3572b-1559-47a5-8c2b-965dd53af703",
   "metadata": {},
   "source": [
    "## Задание 8.3. Создание модуля"
   ]
  },
  {
   "cell_type": "code",
   "execution_count": 13,
   "id": "9ff4b5b3-862f-4d1b-a039-0fcbee7d7d00",
   "metadata": {},
   "outputs": [
    {
     "name": "stdout",
     "output_type": "stream",
     "text": [
      "(None, 5, None)\n",
      "*\n"
     ]
    }
   ],
   "source": [
    "from BinaryTree import BinaryTree as BT, BinaryNode as BN, EmptyNode as EN"
   ]
  },
  {
   "cell_type": "code",
   "execution_count": 15,
   "id": "06caaa4f-cad6-4e42-b32f-f8f7c2b738e9",
   "metadata": {},
   "outputs": [
    {
     "name": "stdout",
     "output_type": "stream",
     "text": [
      "*\n",
      "(*, 0, (*, 1, (*, 2, (*, 3, (*, 4, (*, 5, (*, 6, (*, 7, (*, 8, (*, 9, (*, 10, (*, 11, (*, 12, (*, 13, (*, 14, (*, 15, (*, 16, (*, 17, (*, 18, (*, 19, (*, 20, (*, 21, (*, 22, (*, 23, (*, 24, *)))))))))))))))))))))))))\n"
     ]
    }
   ],
   "source": [
    "treeK = BT()\n",
    "print(treeK)\n",
    "for i in range(25):\n",
    "    treeK.insert(i)\n",
    "print(treeK)"
   ]
  },
  {
   "cell_type": "markdown",
   "id": "56b30edb-bc9e-409e-8db7-dd196b0ec683",
   "metadata": {},
   "source": [
    "## Задание 8.4 Примеры пользовательских классов"
   ]
  },
  {
   "cell_type": "markdown",
   "id": "a0565767-b273-4bd2-9897-e83ea839bd62",
   "metadata": {},
   "source": [
    "### Класс Singleton"
   ]
  },
  {
   "cell_type": "code",
   "execution_count": 19,
   "id": "9b6df0f6-7a7a-404c-9425-8154476ac84b",
   "metadata": {},
   "outputs": [],
   "source": [
    "class Singleton:\n",
    "    instance = None\n",
    "    def __new__(cls, *args, **kwarg):\n",
    "        if cls.instance is None:\n",
    "            cls.instance = super().__new__(cls)\n",
    "        return cls.instance"
   ]
  },
  {
   "cell_type": "code",
   "execution_count": 21,
   "id": "403d70c5-0bf7-4d4b-9421-a1a4008d5309",
   "metadata": {},
   "outputs": [],
   "source": [
    "class Single(Singleton):\n",
    "    def __init__(self, val1, val2):\n",
    "        self.attr1 = val1\n",
    "        self.attr2 = val2"
   ]
  },
  {
   "cell_type": "code",
   "execution_count": 23,
   "id": "235e2ee0-019b-46a4-94a4-c7cf14485a95",
   "metadata": {},
   "outputs": [],
   "source": [
    "i1 = Single(2,3)\n",
    "i2 = Single(3,4)"
   ]
  },
  {
   "cell_type": "code",
   "execution_count": 25,
   "id": "3c304a6d-4659-4d41-811d-999900e823d6",
   "metadata": {},
   "outputs": [
    {
     "data": {
      "text/plain": [
       "True"
      ]
     },
     "execution_count": 25,
     "metadata": {},
     "output_type": "execute_result"
    }
   ],
   "source": [
    "i1 is i2"
   ]
  },
  {
   "cell_type": "code",
   "execution_count": 27,
   "id": "4f839e51-cec7-4ebf-97c1-85f1999d259c",
   "metadata": {},
   "outputs": [
    {
     "data": {
      "text/plain": [
       "({'attr1': 3, 'attr2': 4}, {'attr1': 3, 'attr2': 4})"
      ]
     },
     "execution_count": 27,
     "metadata": {},
     "output_type": "execute_result"
    }
   ],
   "source": [
    "i1.__dict__, i2.__dict__"
   ]
  },
  {
   "cell_type": "markdown",
   "id": "11cc1cc3-7290-4652-921f-a457cd615d51",
   "metadata": {},
   "source": [
    "### Атрибут свойство"
   ]
  },
  {
   "cell_type": "code",
   "execution_count": 39,
   "id": "c92672cd-9890-413e-b3cc-75c9cd5afcfc",
   "metadata": {},
   "outputs": [],
   "source": [
    "import math\n",
    "class Class1:\n",
    "    def __init__(self):\n",
    "        self._x = None\n",
    "    \n",
    "    @property\n",
    "    def x_squared(self):\n",
    "        return None if self._x is None else self._x**2\n",
    "    @x_squared.setter\n",
    "    def x_squared(self, value):\n",
    "        self._x = math.sqrt(value)\n",
    "    \n",
    "    @x_squared.deleter\n",
    "    def x_squared(self):\n",
    "        print('NotImplemented')"
   ]
  },
  {
   "cell_type": "code",
   "execution_count": 41,
   "id": "e1a9e1d3-9036-4ea4-b0b9-d03a7403d9c3",
   "metadata": {},
   "outputs": [
    {
     "name": "stdout",
     "output_type": "stream",
     "text": [
      "None\n",
      "5.0\n",
      "NotImplemented\n"
     ]
    }
   ],
   "source": [
    "i = Class1()\n",
    "print(i.x_squared)\n",
    "i.x_squared = 25\n",
    "print(i._x)\n",
    "del i.x_squared"
   ]
  },
  {
   "cell_type": "code",
   "execution_count": 43,
   "id": "7b3e48ce-94a7-49ef-9a56-59f2ab9a630d",
   "metadata": {},
   "outputs": [
    {
     "data": {
      "text/plain": [
       "{'_x': 5}"
      ]
     },
     "execution_count": 43,
     "metadata": {},
     "output_type": "execute_result"
    }
   ],
   "source": [
    "class Class1:\n",
    "    def __init__(self):\n",
    "        self._x = None\n",
    "    \n",
    "    @property\n",
    "    def x(self):\n",
    "        return _x\n",
    "    \n",
    "    @x.deleter\n",
    "    def x(self):\n",
    "        del _x\n",
    "i = Class1()\n",
    "i._x = 5\n",
    "#i.x = 5\n",
    "i.__dict__"
   ]
  },
  {
   "cell_type": "markdown",
   "id": "d0c09df5-9d4b-42ad-b7fe-755fb2b26f43",
   "metadata": {},
   "source": [
    " ### Классовые методы"
   ]
  },
  {
   "cell_type": "code",
   "execution_count": 61,
   "id": "6dbc6212-d58e-47b2-a8b8-fb07c31564f0",
   "metadata": {},
   "outputs": [
    {
     "data": {
      "text/plain": [
       "('function is called from Class1', 'function is called from Class2')"
      ]
     },
     "execution_count": 61,
     "metadata": {},
     "output_type": "execute_result"
    }
   ],
   "source": [
    "class Class1():\n",
    "    @classmethod\n",
    "    def name(cls):\n",
    "        return f'function is called from {cls.__name__}'\n",
    "class Class2(Class1):\n",
    "    ...\n",
    "Class1.name(), Class2().name()"
   ]
  }
 ],
 "metadata": {
  "kernelspec": {
   "display_name": "Python [conda env:base] *",
   "language": "python",
   "name": "conda-base-py"
  },
  "language_info": {
   "codemirror_mode": {
    "name": "ipython",
    "version": 3
   },
   "file_extension": ".py",
   "mimetype": "text/x-python",
   "name": "python",
   "nbconvert_exporter": "python",
   "pygments_lexer": "ipython3",
   "version": "3.12.7"
  }
 },
 "nbformat": 4,
 "nbformat_minor": 5
}
